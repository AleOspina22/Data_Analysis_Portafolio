{
 "cells": [
  {
   "cell_type": "code",
   "execution_count": null,
   "id": "892dedb1",
   "metadata": {},
   "outputs": [],
   "source": [
    "# Import libraries \n",
    "\n",
    "from bs4 import BeautifulSoup\n",
    "import requests\n",
    "import smtplib\n",
    "import time\n",
    "import datetime\n",
    "import smtplib"
   ]
  },
  {
   "cell_type": "code",
   "execution_count": 32,
   "id": "81b2443f",
   "metadata": {},
   "outputs": [
    {
     "name": "stdout",
     "output_type": "stream",
     "text": [
      "\n",
      "            Marchul Giocattolo per Gatti, Tiragraffi per Gatti con Palline Penzolanti e Pettine Massaggiante, Giocattolo per Gatti con Giradischi a 2 Livelli con il Gioco Feather Stick per Gatti (forma di pesce)\n",
      "           \n",
      "\n",
      "\n",
      "\n",
      "\n",
      "                         39,99€\n",
      "                        \n",
      "\n",
      "\n",
      "                          39\n",
      "                          \n",
      "                           ,\n",
      "                          \n",
      "\n",
      "\n",
      "                          99\n",
      "                         \n",
      "\n",
      "                          €\n",
      "                         \n",
      "\n",
      "\n",
      "\n",
      "\n"
     ]
    }
   ],
   "source": [
    "# Connect to Website\n",
    "\n",
    "URL = 'https://www.amazon.it/Marchul-Giocattolo-Tiragraffi-Penzolanti-Massaggiante/dp/B09NLHS4NZ?psc=1&pd_rd_w=dO1jE&content-id=amzn1.sym.9c7b98f5-805f-4afd-b2b1-588f9c8884d7&pf_rd_p=9c7b98f5-805f-4afd-b2b1-588f9c8884d7&pf_rd_r=8V3Q3S0F84J8R7QPQCKC&pd_rd_wg=YtKjy&pd_rd_r=893876cf-8942-4557-96d8-620e8e2c7e99&ref_=sspa_dk_browse_0&spLa=ZW5jcnlwdGVkUXVhbGlmaWVyPUEyRFhZUE1DQVNDNUxYJmVuY3J5cHRlZElkPUEwNjk0ODg5MjdLU0JSTVAzU1hMUCZlbmNyeXB0ZWRBZElkPUEwNjI2MDM3Sk1JMVBaQTJOVkIzJndpZGdldE5hbWU9c3BfYnJvd3NlX3RoZW1hdGljJmFjdGlvbj1jbGlja1JlZGlyZWN0JmRvTm90TG9nQ2xpY2s9dHJ1ZQ=='\n",
    "\n",
    "headers = {\"User-Agent\": \"Mozilla/5.0 (Macintosh; Intel Mac OS X 10_15_7) AppleWebKit/537.36 (KHTML, like Gecko) Chrome/109.0.0.0 Safari/537.36\", \"Accept-Encoding\":\"gzip, deflate\", \"Accept\":\"text/html,application/xhtml+xml,application/xml;q=0.9,*/*;q=0.8\", \"DNT\":\"1\",\"Connection\":\"close\", \"Upgrade-Insecure-Requests\":\"1\"}\n",
    "\n",
    "page = requests.get(URL, headers = headers)\n",
    "\n",
    "soup1 =  BeautifulSoup(page.content, \"html.parser\")\n",
    "soup2 =  BeautifulSoup(soup1.prettify(), \"html.parser\") #look nicer \n",
    "\n",
    "title = soup2.find(id ='productTitle').get_text()\n",
    "price = soup2.find(id ='corePrice_feature_div').get_text()\n",
    "\n",
    "print(title)\n",
    "print(price)\n"
   ]
  },
  {
   "cell_type": "code",
   "execution_count": 34,
   "id": "a71f4bb4",
   "metadata": {},
   "outputs": [
    {
     "name": "stdout",
     "output_type": "stream",
     "text": [
      "Marchul Giocattolo per Gatti\n",
      "39,99\n"
     ]
    }
   ],
   "source": [
    "title = title.strip()\n",
    "price = price.strip()[0:5] # to have only the complete price without the symbol of euro\n",
    "\n",
    "print(title)\n",
    "print(price)"
   ]
  },
  {
   "cell_type": "code",
   "execution_count": 36,
   "id": "f3845fbb",
   "metadata": {},
   "outputs": [
    {
     "name": "stdout",
     "output_type": "stream",
     "text": [
      "2023-01-30\n"
     ]
    }
   ],
   "source": [
    "import datetime\n",
    "\n",
    "today = datetime.date.today()\n",
    "\n"
   ]
  },
  {
   "cell_type": "code",
   "execution_count": 37,
   "id": "920d5161",
   "metadata": {},
   "outputs": [],
   "source": [
    "# Creation of the file csv with the header and data\n",
    "import csv\n",
    "\n",
    "header = ['Title', 'Price', 'Date']\n",
    "data = [title, price, today]\n",
    "\n",
    "#with open('AmazonWebScraperDataSet.csv', 'w', newline='', encoding = 'UTF8') as f:  #  - Write - Opens a file for writing, creates the file if it does not exist\n",
    "\n",
    "    #writer = csv.writer(f)\n",
    "    #writer.writerow(header)\n",
    "    #writer.writerow(data)\n",
    "    "
   ]
  },
  {
   "cell_type": "code",
   "execution_count": 39,
   "id": "c59b5e94",
   "metadata": {},
   "outputs": [],
   "source": [
    "# Appending data to the csv file \n",
    "\n",
    "with open('AmazonWebScraperDataSet.csv', 'a+', newline='', encoding = 'UTF8') as f:  \n",
    "    writer = csv.writer(f)\n",
    "    writer.writerow(data)"
   ]
  },
  {
   "cell_type": "code",
   "execution_count": 40,
   "id": "0f25ac53",
   "metadata": {},
   "outputs": [
    {
     "name": "stdout",
     "output_type": "stream",
     "text": [
      "                          Title  Price        Date\n",
      "0  Marchul Giocattolo per Gatti  39,99  2023-01-30\n"
     ]
    }
   ],
   "source": [
    "import pandas as pd \n",
    "df = pd.read_csv(r'/Users/alejandroospina/Desktop/Portafolio Data/1. AmazonWebScraperDataSet/AmazonWebScraperDataSet.csv')\n",
    "print(df)\n"
   ]
  },
  {
   "cell_type": "code",
   "execution_count": 42,
   "id": "4a874bb7",
   "metadata": {},
   "outputs": [],
   "source": [
    "def check_price():\n",
    "\n",
    "    # to connect and take info\n",
    "    \n",
    "    URL = 'https://www.amazon.it/Marchul-Giocattolo-Tiragraffi-Penzolanti-Massaggiante/dp/B09NLHS4NZ?psc=1&pd_rd_w=dO1jE&content-id=amzn1.sym.9c7b98f5-805f-4afd-b2b1-588f9c8884d7&pf_rd_p=9c7b98f5-805f-4afd-b2b1-588f9c8884d7&pf_rd_r=8V3Q3S0F84J8R7QPQCKC&pd_rd_wg=YtKjy&pd_rd_r=893876cf-8942-4557-96d8-620e8e2c7e99&ref_=sspa_dk_browse_0&spLa=ZW5jcnlwdGVkUXVhbGlmaWVyPUEyRFhZUE1DQVNDNUxYJmVuY3J5cHRlZElkPUEwNjk0ODg5MjdLU0JSTVAzU1hMUCZlbmNyeXB0ZWRBZElkPUEwNjI2MDM3Sk1JMVBaQTJOVkIzJndpZGdldE5hbWU9c3BfYnJvd3NlX3RoZW1hdGljJmFjdGlvbj1jbGlja1JlZGlyZWN0JmRvTm90TG9nQ2xpY2s9dHJ1ZQ=='\n",
    "\n",
    "    headers = {\"User-Agent\": \"Mozilla/5.0 (Macintosh; Intel Mac OS X 10_15_7) AppleWebKit/537.36 (KHTML, like Gecko) Chrome/109.0.0.0 Safari/537.36\", \"Accept-Encoding\":\"gzip, deflate\", \"Accept\":\"text/html,application/xhtml+xml,application/xml;q=0.9,*/*;q=0.8\", \"DNT\":\"1\",\"Connection\":\"close\", \"Upgrade-Insecure-Requests\":\"1\"}\n",
    "\n",
    "    page = requests.get(URL, headers = headers)\n",
    "\n",
    "    soup1 =  BeautifulSoup(page.content, \"html.parser\")\n",
    "    soup2 =  BeautifulSoup(soup1.prettify(), \"html.parser\") #look nicer \n",
    "\n",
    "    title = soup2.find(id ='productTitle').get_text()\n",
    "    price = soup2.find(id ='corePrice_feature_div').get_text()\n",
    "    \n",
    "    # formatting part of the data\n",
    "    \n",
    "    title = title.strip()\n",
    "    price = price.strip()[0:5]\n",
    "    \n",
    "    # Datetime\n",
    "    \n",
    "    import datetime\n",
    "\n",
    "    today = datetime.date.today()\n",
    "    \n",
    "    # the dataset\n",
    "    \n",
    "    import csv\n",
    "\n",
    "    header = ['Title', 'Price', 'Date']\n",
    "    data = [title, price, today]\n",
    "    \n",
    "    # appending the new data\n",
    "    \n",
    "    with open('AmazonWebScraperDataSet.csv', 'a+', newline='', encoding = 'UTF8') as f:  \n",
    "        writer = csv.writer(f)\n",
    "        writer.writerow(data)\n",
    "        \n",
    "    if (price<30):\n",
    "        send_mail()"
   ]
  },
  {
   "cell_type": "code",
   "execution_count": null,
   "id": "4c815066",
   "metadata": {},
   "outputs": [],
   "source": [
    "# checking the price every single day (24h)\n",
    "while(True):\n",
    "    check_price()\n",
    "    time.sleep(86400)\n",
    "    "
   ]
  },
  {
   "cell_type": "code",
   "execution_count": null,
   "id": "1cae034e",
   "metadata": {},
   "outputs": [],
   "source": [
    "import pandas as pd \n",
    "df = pd.read_csv(r'/Users/alejandroospina/Desktop/Portafolio Data/1. AmazonWebScraperDataSet/AmazonWebScraperDataSet.csv')\n",
    "print(df)"
   ]
  },
  {
   "cell_type": "code",
   "execution_count": null,
   "id": "7740f039",
   "metadata": {},
   "outputs": [],
   "source": [
    "# send me an e-mail when the price of the item is bellow of XXXX\n",
    "\n",
    "def send_mail():\n",
    "    server = smtplib.SMTP_SSL('smtp.gmail.com',465)\n",
    "    server.ehlo()\n",
    "    #server.starttls()\n",
    "    server.ehlo()\n",
    "    server.login('jhonnyospina46@gmail.com','xxxxxxxxxxxxxx')\n",
    "    \n",
    "    subject = \"Cat game you want is below $30! Now is your chance to buy!\"\n",
    "    body = \"Jhonny, This is the moment we have been waiting for. Now is your chance to pick up the game for your cate. Don't mess it up!\"\n",
    "   \n",
    "    msg = f\"Subject: {subject}\\n\\n{body}\"\n",
    "    \n",
    "    server.sendmail(\n",
    "        'jhonnyospina46@gmail.com',\n",
    "        msg\n",
    "     \n",
    "    )"
   ]
  }
 ],
 "metadata": {
  "kernelspec": {
   "display_name": "Python 3 (ipykernel)",
   "language": "python",
   "name": "python3"
  },
  "language_info": {
   "codemirror_mode": {
    "name": "ipython",
    "version": 3
   },
   "file_extension": ".py",
   "mimetype": "text/x-python",
   "name": "python",
   "nbconvert_exporter": "python",
   "pygments_lexer": "ipython3",
   "version": "3.9.7"
  }
 },
 "nbformat": 4,
 "nbformat_minor": 5
}
